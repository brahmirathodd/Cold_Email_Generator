{
 "cells": [
  {
   "cell_type": "code",
   "execution_count": 1,
   "metadata": {},
   "outputs": [],
   "source": [
    "#pip install langchain-groq"
   ]
  },
  {
   "cell_type": "code",
   "execution_count": 2,
   "metadata": {},
   "outputs": [
    {
     "name": "stdout",
     "output_type": "stream",
     "text": [
      "Pinterest is a social media platform that allows users to save and share images and videos (known as \"Pins\") to virtual pinboards. The platform is primarily used for discovering, saving, and sharing ideas and inspiration for various topics such as fashion, home decor, travel, food, and more.\n",
      "\n",
      "Here's how it works:\n",
      "\n",
      "1. **Users create boards**: Users create virtual boards, which are essentially categories or collections of related pins.\n",
      "2. **Users pin images and videos**: Users browse the platform and pin images and videos they like to their boards. They can also upload their own content.\n",
      "3. **Pins are organized**: Pins are organized into categories, such as fashion, home decor, or travel, making it easy for users to find and discover new content.\n",
      "4. **Users follow others**: Users can follow other users' boards, which allows them to see their pins in their feed.\n",
      "5. **Users engage with pins**: Users can like, comment, and repin (share) pins they like.\n",
      "\n",
      "Pinterest is often used for:\n",
      "\n",
      "* **Inspiration**: Users find inspiration for projects, such as home decor, fashion, or travel.\n",
      "* **Planning**: Users plan events, such as weddings or parties, by creating boards and pinning ideas.\n",
      "* **Shopping**: Users discover and save products they like, and can even purchase them directly from the platform.\n",
      "* **Research**: Users research topics, such as recipes, DIY projects, or health and wellness.\n",
      "\n",
      "Overall, Pinterest is a visual discovery and planning website that helps users find and save ideas for various aspects of their lives.\n"
     ]
    }
   ],
   "source": [
    "from langchain_groq import ChatGroq\n",
    "\n",
    "llm = ChatGroq(\n",
    "    temperature=0, \n",
    "    groq_api_key='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', \n",
    "    model_name=\"llama-3.1-70b-versatile\"\n",
    ")\n",
    "\n",
    "response = llm.invoke(\"What is pinterest...\")\n",
    "print(response.content)"
   ]
  },
  {
   "cell_type": "code",
   "execution_count": null,
   "metadata": {},
   "outputs": [],
   "source": []
  }
 ],
 "metadata": {
  "kernelspec": {
   "display_name": "Python 3 (ipykernel)",
   "language": "python",
   "name": "python3"
  },
  "language_info": {
   "codemirror_mode": {
    "name": "ipython",
    "version": 3
   },
   "file_extension": ".py",
   "mimetype": "text/x-python",
   "name": "python",
   "nbconvert_exporter": "python",
   "pygments_lexer": "ipython3",
   "version": "3.11.5"
  }
 },
 "nbformat": 4,
 "nbformat_minor": 2
}
